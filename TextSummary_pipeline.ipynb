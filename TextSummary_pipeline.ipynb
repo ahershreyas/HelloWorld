{
  "nbformat": 4,
  "nbformat_minor": 0,
  "metadata": {
    "colab": {
      "provenance": [],
      "authorship_tag": "ABX9TyNAyznB2ttSlw6gY118/gpI",
      "include_colab_link": true
    },
    "kernelspec": {
      "name": "python3",
      "display_name": "Python 3"
    },
    "language_info": {
      "name": "python"
    }
  },
  "cells": [
    {
      "cell_type": "markdown",
      "metadata": {
        "id": "view-in-github",
        "colab_type": "text"
      },
      "source": [
        "<a href=\"https://colab.research.google.com/github/ahershreyas/HelloWorld/blob/main/TextSummary_pipeline.ipynb\" target=\"_parent\"><img src=\"https://colab.research.google.com/assets/colab-badge.svg\" alt=\"Open In Colab\"/></a>"
      ]
    },
    {
      "cell_type": "code",
      "source": [
        "# library\n",
        "!pip install transformers\n",
        "!pip install torch\n",
        "!pip install huggingface_hub"
      ],
      "metadata": {
        "id": "xJ5aAd3frk4B"
      },
      "execution_count": null,
      "outputs": []
    },
    {
      "cell_type": "code",
      "source": [
        "#Here is some code that suppresses warning messages.\n",
        "from transformers.utils import logging\n",
        "logging.set_verbosity_error()"
      ],
      "metadata": {
        "id": "QhYtpintrnGs"
      },
      "execution_count": 76,
      "outputs": []
    },
    {
      "cell_type": "code",
      "source": [
        "from transformers import pipeline\n",
        "#from transformers import AutoModelForSequenceClassification\n",
        "import torch"
      ],
      "metadata": {
        "id": "SQ6eQo1Gro26"
      },
      "execution_count": 77,
      "outputs": []
    },
    {
      "cell_type": "code",
      "source": [
        "translator = pipeline(task=\"translation\",\n",
        "        model=\"facebook/nllb-200-distilled-600M\",\n",
        "                      torch_dtype=torch.bfloat16)"
      ],
      "metadata": {
        "id": "zSFdW4ejrq0E"
      },
      "execution_count": 78,
      "outputs": []
    },
    {
      "cell_type": "code",
      "source": [
        "text = \"\"\"\\\n",
        "\n",
        "१००० वर्षापूर्वी भारतला सिंधु स्थळ म्हटले जात. सिंधू म्हणजे नदी, त्या काळी भारतात अनेक नद्या वाहात. \\\n",
        "त्यापैकी एक गंगा. \\\n",
        "\"\"\""
      ],
      "metadata": {
        "id": "XSH3tX5crtiu"
      },
      "execution_count": 79,
      "outputs": []
    },
    {
      "cell_type": "code",
      "source": [
        "#mar_Deva\n",
        "\n",
        "#text_translated = translator(text,\n",
        "                             #src_lang=\"eng_Latn\",\n",
        "                             #tgt_lang=\"mar_Deva\")\n",
        "\n",
        "text_translated = translator(text,\n",
        "                             src_lang=\"mar_Deva\",\n",
        "                             tgt_lang=\"eng_Latn\")"
      ],
      "metadata": {
        "id": "cz_CCL1crv0O"
      },
      "execution_count": 80,
      "outputs": []
    },
    {
      "cell_type": "code",
      "source": [
        "text_translated"
      ],
      "metadata": {
        "id": "0Eh0YJjIr0Jq"
      },
      "execution_count": null,
      "outputs": []
    },
    {
      "cell_type": "markdown",
      "source": [
        "Free up some memory before continuing"
      ],
      "metadata": {
        "id": "DbiRRg5iHzxE"
      }
    },
    {
      "cell_type": "code",
      "source": [
        "import gc"
      ],
      "metadata": {
        "id": "AgCbSO4hHr9j"
      },
      "execution_count": 82,
      "outputs": []
    },
    {
      "cell_type": "code",
      "source": [
        "del translator"
      ],
      "metadata": {
        "id": "jpq-sv9gH7Zp"
      },
      "execution_count": 83,
      "outputs": []
    },
    {
      "cell_type": "code",
      "source": [
        "gc.collect()"
      ],
      "metadata": {
        "colab": {
          "base_uri": "https://localhost:8080/"
        },
        "id": "xSNgk46GH8Ev",
        "outputId": "53847909-3537-4961-b680-c893372fabc4"
      },
      "execution_count": 84,
      "outputs": [
        {
          "output_type": "execute_result",
          "data": {
            "text/plain": [
              "232"
            ]
          },
          "metadata": {},
          "execution_count": 84
        }
      ]
    },
    {
      "cell_type": "markdown",
      "source": [
        "summarization pipeline using Transformers Library"
      ],
      "metadata": {
        "id": "RhmkjLyiISOU"
      }
    },
    {
      "cell_type": "code",
      "source": [
        "summarizer = pipeline(task=\"summarization\", model= \"facebook/bart-large-cnn\", torch_dtype=torch.bfloat16)"
      ],
      "metadata": {
        "id": "J-hoVEhyIWCV"
      },
      "execution_count": 96,
      "outputs": []
    },
    {
      "cell_type": "code",
      "source": [
        "text = \"\"\" The term AI, coined in the 1950s, refers to the simulation of human intelligence by machines,\n",
        "it covers an ever-changing set of capabilities as new technologies are developed.\n",
        "Deep learning's use of artificial neural network structure is the underpinning of recent advances in AI, including self-driving cars and ChatGPT.\"\"\""
      ],
      "metadata": {
        "id": "aLEpkz-gJMUl"
      },
      "execution_count": 109,
      "outputs": []
    },
    {
      "cell_type": "code",
      "source": [
        "summary = summarizer (text,\n",
        "                      min_length= 10,\n",
        "                      max_length=70)"
      ],
      "metadata": {
        "id": "fdNz_DsTK0ya"
      },
      "execution_count": 110,
      "outputs": []
    },
    {
      "cell_type": "code",
      "source": [
        "summary"
      ],
      "metadata": {
        "colab": {
          "base_uri": "https://localhost:8080/"
        },
        "id": "saP-cmcWLEG6",
        "outputId": "9c9c6f4e-fb0b-410c-baf4-ffbf3647998b"
      },
      "execution_count": 111,
      "outputs": [
        {
          "output_type": "execute_result",
          "data": {
            "text/plain": [
              "[{'summary_text': \"The term AI, coined in the 1950s, refers to the simulation of human intelligence by machines. Deep learning's use of artificial neural network structure is the underpinning of recent advances in AI, including self-driving cars.\"}]"
            ]
          },
          "metadata": {},
          "execution_count": 111
        }
      ]
    }
  ]
}